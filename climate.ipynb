{
 "cells": [
  {
   "cell_type": "code",
   "execution_count": 53,
   "metadata": {},
   "outputs": [],
   "source": [
    "# Dependencies! \n",
    "\n",
    "%matplotlib inline\n",
    "from matplotlib import style\n",
    "style.use('fivethirtyeight')\n",
    "import matplotlib.pyplot as plt"
   ]
  },
  {
   "cell_type": "code",
   "execution_count": 54,
   "metadata": {},
   "outputs": [],
   "source": [
    "from scipy import stats\n",
    "import numpy as np\n",
    "import pandas as pd"
   ]
  },
  {
   "cell_type": "code",
   "execution_count": 55,
   "metadata": {},
   "outputs": [],
   "source": [
    "import datetime as dt"
   ]
  },
  {
   "cell_type": "code",
   "execution_count": 56,
   "metadata": {},
   "outputs": [],
   "source": [
    "# Reflect tables into SQLAlchemy ORM\n",
    "# Python SQL toolkit and Object Relational Mapper\n",
    "\n",
    "import sqlalchemy\n",
    "from sqlalchemy.ext.automap import automap_base\n",
    "from sqlalchemy.orm import Session\n",
    "from sqlalchemy import create_engine, inspect, func, distinct"
   ]
  },
  {
   "cell_type": "code",
   "execution_count": 57,
   "metadata": {},
   "outputs": [],
   "source": [
    "engine = create_engine(\"sqlite:///Resources/hawaii.sqlite\")"
   ]
  },
  {
   "cell_type": "code",
   "execution_count": 58,
   "metadata": {},
   "outputs": [],
   "source": [
    "# Reflect an existing database into a new model\n",
    "\n",
    "Base = automap_base()\n",
    "\n",
    "# Reflect tables\n",
    "\n",
    "Base.prepare(engine, reflect=True)"
   ]
  },
  {
   "cell_type": "code",
   "execution_count": 59,
   "metadata": {},
   "outputs": [
    {
     "data": {
      "text/plain": [
       "['measurement', 'station']"
      ]
     },
     "execution_count": 59,
     "metadata": {},
     "output_type": "execute_result"
    }
   ],
   "source": [
    "Base.classes.keys()"
   ]
  },
  {
   "cell_type": "code",
   "execution_count": 60,
   "metadata": {},
   "outputs": [],
   "source": [
    "Measurement = Base.classes.measurement\n",
    "Station = Base.classes.station"
   ]
  },
  {
   "cell_type": "code",
   "execution_count": 61,
   "metadata": {},
   "outputs": [],
   "source": [
    "# Create our session (link) from Python to the DB\n",
    "\n",
    "session = Session(engine)"
   ]
  },
  {
   "cell_type": "code",
   "execution_count": 62,
   "metadata": {},
   "outputs": [
    {
     "name": "stdout",
     "output_type": "stream",
     "text": [
      "id INTEGER\n",
      "station TEXT\n",
      "date TEXT\n",
      "prcp FLOAT\n",
      "tobs FLOAT\n"
     ]
    }
   ],
   "source": [
    "# Precipitation Analysis\n",
    "\n",
    "inspector = inspect(engine)\n",
    "columns = inspector.get_columns('measurement')\n",
    "for c in columns:\n",
    "    print(c['name'], c[\"type\"])"
   ]
  },
  {
   "cell_type": "code",
   "execution_count": 63,
   "metadata": {},
   "outputs": [
    {
     "name": "stdout",
     "output_type": "stream",
     "text": [
      "date_delta : 2016-08-23\n"
     ]
    },
    {
     "data": {
      "image/png": "[encoded data removed]",
      "text/plain": [
       "<Figure size 432x288 with 1 Axes>"
      ]
     },
     "metadata": {},
     "output_type": "display_data"
    }
   ],
   "source": [
    "# Calculate the date 1 year ago from the last data point in the database\n",
    "\n",
    "date_delta = dt.date(2017, 8, 23) - dt.timedelta(days = 365.25)\n",
    "print(\"date_delta :\", date_delta)\n",
    "\n",
    "# Retrieve data and precipitation scores\n",
    "\n",
    "data_precip = session.query(Measurement.date, Measurement.prcp).\\\n",
    "filter(Measurement.date >= date_delta).all()\n",
    "data_precip\n",
    "\n",
    "# Save query results as a Pandas DataFrame and set the index to the date column\n",
    "\n",
    "df_precip = pd.DataFrame(data_precip, columns=['date', 'prcp'])\n",
    "df_precip.set_index('date', inplace=True)\n",
    "\n",
    "# Sort dataframe by date\n",
    "\n",
    "df_precip.sort_values(by=['date'], inplace=True)\n",
    "\n",
    "# Use Pandas Plotting with Matplotlib to plot the data\n",
    "\n",
    "df_precip.plot()\n",
    "plt.xticks(rotation=90)\n",
    "plt.ylabel('inches')\n",
    "plt.savefig('date_del_precipitation.png')\n",
    "plt.show()"
   ]
  },
  {
   "cell_type": "code",
   "execution_count": 64,
   "metadata": {},
   "outputs": [
    {
     "data": {
      "text/html": [
       "<div>\n",
       "<style scoped>\n",
       "    .dataframe tbody tr th:only-of-type {\n",
       "        vertical-align: middle;\n",
       "    }\n",
       "\n",
       "    .dataframe tbody tr th {\n",
       "        vertical-align: top;\n",
       "    }\n",
       "\n",
       "    .dataframe thead th {\n",
       "        text-align: right;\n",
       "    }\n",
       "</style>\n",
       "<table border=\"1\" class=\"dataframe\">\n",
       "  <thead>\n",
       "    <tr style=\"text-align: right;\">\n",
       "      <th></th>\n",
       "      <th>prcp</th>\n",
       "    </tr>\n",
       "  </thead>\n",
       "  <tbody>\n",
       "    <tr>\n",
       "      <th>count</th>\n",
       "      <td>2021.000000</td>\n",
       "    </tr>\n",
       "    <tr>\n",
       "      <th>mean</th>\n",
       "      <td>0.177279</td>\n",
       "    </tr>\n",
       "    <tr>\n",
       "      <th>std</th>\n",
       "      <td>0.461190</td>\n",
       "    </tr>\n",
       "    <tr>\n",
       "      <th>min</th>\n",
       "      <td>0.000000</td>\n",
       "    </tr>\n",
       "    <tr>\n",
       "      <th>25%</th>\n",
       "      <td>0.000000</td>\n",
       "    </tr>\n",
       "    <tr>\n",
       "      <th>50%</th>\n",
       "      <td>0.020000</td>\n",
       "    </tr>\n",
       "    <tr>\n",
       "      <th>75%</th>\n",
       "      <td>0.130000</td>\n",
       "    </tr>\n",
       "    <tr>\n",
       "      <th>max</th>\n",
       "      <td>6.700000</td>\n",
       "    </tr>\n",
       "  </tbody>\n",
       "</table>\n",
       "</div>"
      ],
      "text/plain": [
       "              prcp\n",
       "count  2021.000000\n",
       "mean      0.177279\n",
       "std       0.461190\n",
       "min       0.000000\n",
       "25%       0.000000\n",
       "50%       0.020000\n",
       "75%       0.130000\n",
       "max       6.700000"
      ]
     },
     "execution_count": 64,
     "metadata": {},
     "output_type": "execute_result"
    }
   ],
   "source": [
    "# Calculate summary statistics for the precipitation data\n",
    "\n",
    "df_precip.describe()"
   ]
  },
  {
   "cell_type": "code",
   "execution_count": 65,
   "metadata": {},
   "outputs": [
    {
     "name": "stdout",
     "output_type": "stream",
     "text": [
      "There are 9 stations in the dataset\n"
     ]
    }
   ],
   "source": [
    "# Station Analysis\n",
    "# How many stations are available in this dataset?\n",
    "\n",
    "station_count = session.query(func.count(distinct(Measurement.station))).all()\n",
    "station_unpacked = [x[0] for x in station_count]\n",
    "print(f\"There are {station_unpacked[0]} stations in the dataset\")"
   ]
  },
  {
   "cell_type": "code",
   "execution_count": 66,
   "metadata": {},
   "outputs": [
    {
     "data": {
      "text/plain": [
       "[('USC00519281', 2772),\n",
       " ('USC00513117', 2696),\n",
       " ('USC00519397', 2685),\n",
       " ('USC00519523', 2572),\n",
       " ('USC00516128', 2484),\n",
       " ('USC00514830', 1937),\n",
       " ('USC00511918', 1932),\n",
       " ('USC00517948', 683),\n",
       " ('USC00518838', 342)]"
      ]
     },
     "execution_count": 66,
     "metadata": {},
     "output_type": "execute_result"
    }
   ],
   "source": [
    "# What are the most active stations? (i.e. what stations have the most rows)? List in descending order\n",
    "\n",
    "complete_obs = session.query(Measurement.station, func.count(Measurement.station)).\\\n",
    "filter(Measurement.tobs.isnot(None)).\\\n",
    "filter(Measurement.prcp.isnot(None)).\\\n",
    "group_by(Measurement.station).\\\n",
    "order_by(func.count(Measurement.station).desc()).all()\n",
    "complete_obs"
   ]
  },
  {
   "cell_type": "code",
   "execution_count": 67,
   "metadata": {},
   "outputs": [
    {
     "name": "stdout",
     "output_type": "stream",
     "text": [
      "USC00519281 is the most active station with 2772 total observations\n"
     ]
    }
   ],
   "source": [
    "complete_obs_stations = [x[0] for x in complete_obs]\n",
    "complete_obs_count = [x[1] for x in complete_obs]\n",
    "print(f\"{complete_obs_stations[0]} is the most active station with {complete_obs_count[0]} total observations\")"
   ]
  },
  {
   "cell_type": "code",
   "execution_count": 68,
   "metadata": {},
   "outputs": [
    {
     "name": "stdout",
     "output_type": "stream",
     "text": [
      "The lowest temperature observed for the most active station is 54.0F\n",
      "The highest temperature observed for the most active station is 85.0F\n",
      "The highest temperature observed for the most active station is 71.66378066378067F\n"
     ]
    }
   ],
   "source": [
    "# Calculate lowest temperature recorded, highest temperature recorded, and average temperature of the most active station\n",
    "# Lowest Temp\n",
    "most_active_lowest_temp = session.query(func.min(Measurement.tobs)).\\\n",
    "filter(Measurement.station == 'USC00519281').first()\n",
    "print(f\"The lowest temperature observed for the most active station is {most_active_lowest_temp[0]}F\")\n",
    "\n",
    "# Highest Temp\n",
    "most_active_highest_temp = session.query(func.max(Measurement.tobs)).\\\n",
    "filter(Measurement.station == 'USC00519281').first()\n",
    "print(f\"The highest temperature observed for the most active station is {most_active_highest_temp[0]}F\")\n",
    "\n",
    "# Average Temp\n",
    "most_active_avg_temp = session.query(func.avg(Measurement.tobs)).\\\n",
    "filter(Measurement.station == 'USC00519281').first()\n",
    "print(f\"The highest temperature observed for the most active station is {most_active_avg_temp[0]}F\")"
   ]
  },
  {
   "cell_type": "code",
   "execution_count": 69,
   "metadata": {},
   "outputs": [
    {
     "name": "stdout",
     "output_type": "stream",
     "text": [
      "Latest observation date for the most active station is on 2017-08-18\n",
      "Query date for station with highest number of temperature observations : 2016-08-18\n"
     ]
    },
    {
     "data": {
      "image/png": "[encoded data removed]",
      "text/plain": [
       "<Figure size 432x288 with 1 Axes>"
      ]
     },
     "metadata": {},
     "output_type": "display_data"
    }
   ],
   "source": [
    "\n",
    "# With the highest # of temp observations, query the last 12 months of temperature observation data & plot the results as a histogram\n",
    "# Latest date for which observation was made\n",
    "\n",
    "most_active_latest_date =  session.query(func.max(Measurement.date)).\\\n",
    "filter(Measurement.station == 'USC00519281').first()\n",
    "print(f\"Latest observation date for the most active station is on {most_active_latest_date[0]}\")\n",
    "\n",
    "most_active_date_delta = dt.date(2017, 8, 18) - dt.timedelta(days = 365.25)\n",
    "print(\"Query date for station with highest number of temperature observations :\", most_active_date_delta)\n",
    "\n",
    "most_active_date_delta_tobs = session.query(Measurement.date, Measurement.tobs).\\\n",
    "filter(Measurement.station == 'USC00519281').\\\n",
    "filter(Measurement.date >= most_active_date_delta).all()\n",
    "\n",
    "# Extract temperature observations\n",
    "\n",
    "most_active_tobs = [x[1] for x in most_active_date_delta_tobs]\n",
    "plt.hist(most_active_tobs, bins = 12)\n",
    "plt.xlabel('Temperature')\n",
    "plt.ylabel('Frequency')\n",
    "plt.title('Distribution of Observed Temperatures between 2016-08-18 and 2017-08-18')\n",
    "plt.savefig('tobs_hist.png')\n",
    "plt.show()"
   ]
  },
  {
   "cell_type": "code",
   "execution_count": 84,
   "metadata": {},
   "outputs": [
    {
     "name": "stdout",
     "output_type": "stream",
     "text": [
      "Result of unpaired t-test : Ttest_indResult(statistic=4.615865424404701, pvalue=0.00028626292761018595)\n",
      "pvalue < 0.05 indicates the difference of the means is statistically significant.\n"
     ]
    }
   ],
   "source": [
    "# Bonus: Temp Analysis\n",
    "\n",
    "# Temperature in June across all years\n",
    "\n",
    "june_temp = session.query(Measurement.date, func.avg(Measurement.tobs)).\\\n",
    "filter(func.strftime(\"%m\", Measurement.date) == \"06\").\\\n",
    "group_by(Measurement.station).all()\n",
    "june_temp_avg = [x[1] for x in june_temp]\n",
    "\n",
    "# Temperature in December across all years\n",
    "\n",
    "dec_temp = session.query(Measurement.date, func.avg(Measurement.tobs)).\\\n",
    "filter(func.strftime(\"%m\", Measurement.date) == \"12\").\\\n",
    "group_by(Measurement.station).all()\n",
    "dec_temp_avg = [x[1] for x in dec_temp]\n",
    "\n",
    "print(\"Result of unpaired t-test :\", stats.ttest_ind(june_temp_avg, dec_temp_avg ))\n",
    "print(\"pvalue < 0.05 indicates the difference of the means is statistically significant.\")"
   ]
  },
  {
   "cell_type": "code",
   "execution_count": 72,
   "metadata": {},
   "outputs": [
    {
     "name": "stdout",
     "output_type": "stream",
     "text": [
      "Trip Start date : 2015-06-19\n",
      "Trip End date : 2015-07-04\n",
      "TMIN : 67.0\n",
      "TAVG : 75.8\n",
      "TMAX : 82.0\n"
     ]
    }
   ],
   "source": [
    "# Temp Analysis 2\n",
    "# Use your previous function `calc_temps` to calculate the tmin, tavg, and tmax \n",
    "# for your trip using the previous year's data for those same dates.\n",
    "\n",
    "# Dates for 15 days holiday\n",
    "\n",
    "trip_end_delta = dt.date(2016, 7, 3) - dt.timedelta(days = 365.25)\n",
    "trip_start_delta = dt.date(2016, 7, 3) - dt.timedelta(days = 380.25)\n",
    "print(\"Trip Start date :\", trip_start_delta)\n",
    "print(\"Trip End date :\", trip_end_delta)\n",
    "\n",
    "# T-min, T-avg and T-max for the two weeks trip\n",
    "\n",
    "trip_stats = calc_temps('2015-06-19', '2015-07-04')\n",
    "trip_stats_tmin = [x[0] for x in trip_stats]\n",
    "trip_stats_tavg = [x[1] for x in trip_stats]\n",
    "trip_stats_tmax = [x[2] for x in trip_stats]\n",
    "tmin = trip_stats_tmin[0]\n",
    "tavg = trip_stats_tavg[0]\n",
    "tmax = trip_stats_tmax[0]\n",
    "print(\"TMIN :\", tmin)\n",
    "print(\"TAVG :\", tavg)\n",
    "print(\"TMAX :\", tmax)"
   ]
  },
  {
   "cell_type": "code",
   "execution_count": 73,
   "metadata": {},
   "outputs": [
    {
     "data": {
      "image/png": "[encoded data removed]",
      "text/plain": [
       "<Figure size 432x288 with 1 Axes>"
      ]
     },
     "metadata": {},
     "output_type": "display_data"
    }
   ],
   "source": [
    "# Plot the results from your previous query as a bar chart. \n",
    "# Use \"Trip Avg Temp\" as your Title\n",
    "# Use the average temperature for the y value\n",
    "# Use the peak-to-peak (tmax-tmin) value as the y error bar (yerr)\n",
    "\n",
    "trip_stats_df = pd.DataFrame(trip_stats, columns=['min_t', 'avg_t', 'max_t'])\n",
    "trip_stats_df\n",
    "error = tmax-tmin\n",
    "trip_stats_df['avg_t'].plot(kind = 'bar', yerr=error)\n",
    "plt.ylabel('Temp (F)')\n",
    "plt.title('Trip Avg Temp')\n",
    "plt.savefig('trip_bar_chart.png')\n",
    "plt.show()"
   ]
  },
  {
   "cell_type": "code",
   "execution_count": 71,
   "metadata": {},
   "outputs": [
    {
     "name": "stdout",
     "output_type": "stream",
     "text": [
      "[(62.0, 69.57142857142857, 74.0)]\n"
     ]
    }
   ],
   "source": [
    "# Total Amt of Rainfall / weather station for trip dates\n",
    "\n",
    "def calc_temps(start_date, end_date):\n",
    "    \"\"\"TMIN, TAVG, and TMAX for a list of dates.\n",
    "    \n",
    "    Args:\n",
    "        start_date (string): A date string in the format %Y-%m-%d\n",
    "        end_date (string): A date string in the format %Y-%m-%d\n",
    "        \n",
    "    Returns:\n",
    "        TMIN, TAVE, and TMAX\n",
    "    \"\"\"\n",
    "    \n",
    "    return session.query(func.min(Measurement.tobs), func.avg(Measurement.tobs), func.max(Measurement.tobs)).\\\n",
    "        filter(Measurement.date >= start_date).filter(Measurement.date <= end_date).all()\n",
    "\n",
    "# function usage example\n",
    "print(calc_temps('2012-02-28', '2012-03-05'))"
   ]
  },
  {
   "cell_type": "code",
   "execution_count": 93,
   "metadata": {},
   "outputs": [
    {
     "data": {
      "text/html": [
       "<div>\n",
       "<style scoped>\n",
       "    .dataframe tbody tr th:only-of-type {\n",
       "        vertical-align: middle;\n",
       "    }\n",
       "\n",
       "    .dataframe tbody tr th {\n",
       "        vertical-align: top;\n",
       "    }\n",
       "\n",
       "    .dataframe thead th {\n",
       "        text-align: right;\n",
       "    }\n",
       "</style>\n",
       "<table border=\"1\" class=\"dataframe\">\n",
       "  <thead>\n",
       "    <tr style=\"text-align: right;\">\n",
       "      <th></th>\n",
       "      <th>station</th>\n",
       "      <th>prcp_amount</th>\n",
       "      <th>name</th>\n",
       "      <th>latitude</th>\n",
       "      <th>longitude</th>\n",
       "      <th>elevation</th>\n",
       "    </tr>\n",
       "  </thead>\n",
       "  <tbody>\n",
       "    <tr>\n",
       "      <th>0</th>\n",
       "      <td>USC00511918</td>\n",
       "      <td>0.02</td>\n",
       "      <td>HONOLULU OBSERVATORY 702.2, HI US</td>\n",
       "      <td>21.31520</td>\n",
       "      <td>-157.99920</td>\n",
       "      <td>0.9</td>\n",
       "    </tr>\n",
       "    <tr>\n",
       "      <th>1</th>\n",
       "      <td>USC00513117</td>\n",
       "      <td>0.61</td>\n",
       "      <td>KANEOHE 838.1, HI US</td>\n",
       "      <td>21.42340</td>\n",
       "      <td>-157.80150</td>\n",
       "      <td>14.6</td>\n",
       "    </tr>\n",
       "    <tr>\n",
       "      <th>2</th>\n",
       "      <td>USC00514830</td>\n",
       "      <td>1.76</td>\n",
       "      <td>KUALOA RANCH HEADQUARTERS 886.9, HI US</td>\n",
       "      <td>21.52130</td>\n",
       "      <td>-157.83740</td>\n",
       "      <td>7.0</td>\n",
       "    </tr>\n",
       "    <tr>\n",
       "      <th>3</th>\n",
       "      <td>USC00516128</td>\n",
       "      <td>5.91</td>\n",
       "      <td>MANOA LYON ARBO 785.2, HI US</td>\n",
       "      <td>21.33310</td>\n",
       "      <td>-157.80250</td>\n",
       "      <td>152.4</td>\n",
       "    </tr>\n",
       "    <tr>\n",
       "      <th>4</th>\n",
       "      <td>USC00517948</td>\n",
       "      <td>0.13</td>\n",
       "      <td>PEARL CITY, HI US</td>\n",
       "      <td>21.39340</td>\n",
       "      <td>-157.97510</td>\n",
       "      <td>11.9</td>\n",
       "    </tr>\n",
       "    <tr>\n",
       "      <th>5</th>\n",
       "      <td>USC00519281</td>\n",
       "      <td>1.80</td>\n",
       "      <td>WAIHEE 837.5, HI US</td>\n",
       "      <td>21.45167</td>\n",
       "      <td>-157.84889</td>\n",
       "      <td>32.9</td>\n",
       "    </tr>\n",
       "    <tr>\n",
       "      <th>6</th>\n",
       "      <td>USC00519397</td>\n",
       "      <td>0.14</td>\n",
       "      <td>WAIKIKI 717.2, HI US</td>\n",
       "      <td>21.27160</td>\n",
       "      <td>-157.81680</td>\n",
       "      <td>3.0</td>\n",
       "    </tr>\n",
       "    <tr>\n",
       "      <th>7</th>\n",
       "      <td>USC00519523</td>\n",
       "      <td>0.19</td>\n",
       "      <td>WAIMANALO EXPERIMENTAL FARM, HI US</td>\n",
       "      <td>21.33556</td>\n",
       "      <td>-157.71139</td>\n",
       "      <td>19.5</td>\n",
       "    </tr>\n",
       "  </tbody>\n",
       "</table>\n",
       "</div>"
      ],
      "text/plain": [
       "       station  prcp_amount                                    name  latitude  \\\n",
       "0  USC00511918         0.02       HONOLULU OBSERVATORY 702.2, HI US  21.31520   \n",
       "1  USC00513117         0.61                    KANEOHE 838.1, HI US  21.42340   \n",
       "2  USC00514830         1.76  KUALOA RANCH HEADQUARTERS 886.9, HI US  21.52130   \n",
       "3  USC00516128         5.91            MANOA LYON ARBO 785.2, HI US  21.33310   \n",
       "4  USC00517948         0.13                       PEARL CITY, HI US  21.39340   \n",
       "5  USC00519281         1.80                     WAIHEE 837.5, HI US  21.45167   \n",
       "6  USC00519397         0.14                    WAIKIKI 717.2, HI US  21.27160   \n",
       "7  USC00519523         0.19      WAIMANALO EXPERIMENTAL FARM, HI US  21.33556   \n",
       "\n",
       "   longitude  elevation  \n",
       "0 -157.99920        0.9  \n",
       "1 -157.80150       14.6  \n",
       "2 -157.83740        7.0  \n",
       "3 -157.80250      152.4  \n",
       "4 -157.97510       11.9  \n",
       "5 -157.84889       32.9  \n",
       "6 -157.81680        3.0  \n",
       "7 -157.71139       19.5  "
      ]
     },
     "execution_count": 93,
     "metadata": {},
     "output_type": "execute_result"
    }
   ],
   "source": [
    "# Calculate the total amount of rainfall per weather station for your trip dates using the previous year's matching dates.\n",
    "# Sort this in descending order by precipitation amount and list the station, name, latitude, longitude, and elevation\n",
    "\n",
    "# Query for total precipitation for trip duration\n",
    "prcp_total = session.query(Measurement.station, func.sum(Measurement.prcp)).\\\n",
    "filter(Measurement.prcp.isnot(None)).\\\n",
    "filter(Measurement.date >= '2015-06-19').\\\n",
    "filter(Measurement.date <= '2015-07-04').\\\n",
    "group_by(Measurement.station).all()\n",
    "\n",
    "# Load query into dataframe\n",
    "prcp_trip_total = pd.DataFrame(prcp_total, columns=['station', 'prcp_amount'])\n",
    "\n",
    "# Query Station table and load into dataframe\n",
    "station_table = session.query(Station.station, Station.name, Station.latitude, Station.longitude, Station.elevation).all()\n",
    "station_table_df = pd.DataFrame(station_table, columns=['station','name', 'latitude', 'longitude', 'elevation'])\n",
    "\n",
    "prcp_merged = pd.merge(prcp_trip_total, station_table_df, on='station')\n",
    "prcp_merged"
   ]
  },
  {
   "cell_type": "code",
   "execution_count": 75,
   "metadata": {},
   "outputs": [
    {
     "data": {
      "text/plain": [
       "[(62.0, 69.15384615384616, 77.0)]"
      ]
     },
     "execution_count": 75,
     "metadata": {},
     "output_type": "execute_result"
    }
   ],
   "source": [
    "# Daily rainfall average\n",
    "\n",
    "def daily_normals(date):\n",
    "    \"\"\"Daily Normals.\n",
    "    \n",
    "    Args:\n",
    "        date (str): A date string in the format '%m-%d'\n",
    "        \n",
    "    Returns:\n",
    "        A list of tuples containing the daily normals, tmin, tavg, and tmax\n",
    "    \n",
    "    \"\"\"\n",
    "    \n",
    "    sel = [func.min(Measurement.tobs), func.avg(Measurement.tobs), func.max(Measurement.tobs)]\n",
    "    return session.query(*sel).filter(func.strftime(\"%m-%d\", Measurement.date) == date).all()\n",
    "    \n",
    "daily_normals(\"01-01\")"
   ]
  },
  {
   "cell_type": "code",
   "execution_count": 113,
   "metadata": {},
   "outputs": [
    {
     "name": "stdout",
     "output_type": "stream",
     "text": [
      "['06-19', '06-20', '06-21', '06-22', '06-23', '06-24', '06-25', '06-26', '06-27', '06-28', '06-29', '06-30', '07-01', '07-02', '07-03']\n",
      "[[(70.0, 75.44067796610169, 82.0)], [(68.0, 73.96491228070175, 85.0)], [(68.0, 74.75862068965517, 82.0)], [(69.0, 75.15789473684211, 81.0)], [(68.0, 74.54385964912281, 80.0)], [(68.0, 74.96428571428571, 84.0)], [(68.0, 74.10344827586206, 80.0)], [(67.0, 74.21428571428571, 82.0)], [(66.0, 75.01785714285714, 81.0)], [(69.0, 74.88679245283019, 80.0)], [(67.0, 74.91525423728814, 80.0)], [(67.0, 75.59615384615384, 81.0)], [(67.0, 74.77777777777777, 81.0)], [(68.0, 75.40384615384616, 82.0)], [(68.0, 75.32075471698113, 87.0)]]\n"
     ]
    }
   ],
   "source": [
    "# Calculate daily norms for trip\n",
    "\n",
    "start_date = trip_start_delta\n",
    "end_date = trip_end_delta\n",
    "\n",
    "date_generated = [start_date + dt.timedelta(days=x) for x in range(0, (end_date-start_date).days)]\n",
    "\n",
    "dates_stripped = []\n",
    "for date in date_generated:\n",
    "    dates_stripped.append(date.strftime(\"%m-%d\"))\n",
    "print(dates_stripped)\n",
    "\n",
    "normals = []\n",
    "for mnth_day in dates_stripped:\n",
    "        \n",
    "    normals.append(daily_normals(mnth_day))\n",
    "print(normals)"
   ]
  },
  {
   "cell_type": "code",
   "execution_count": 126,
   "metadata": {},
   "outputs": [
    {
     "data": {
      "text/html": [
       "<div>\n",
       "<style scoped>\n",
       "    .dataframe tbody tr th:only-of-type {\n",
       "        vertical-align: middle;\n",
       "    }\n",
       "\n",
       "    .dataframe tbody tr th {\n",
       "        vertical-align: top;\n",
       "    }\n",
       "\n",
       "    .dataframe thead th {\n",
       "        text-align: right;\n",
       "    }\n",
       "</style>\n",
       "<table border=\"1\" class=\"dataframe\">\n",
       "  <thead>\n",
       "    <tr style=\"text-align: right;\">\n",
       "      <th></th>\n",
       "      <th>tmin</th>\n",
       "      <th>tavg</th>\n",
       "      <th>tmax</th>\n",
       "    </tr>\n",
       "  </thead>\n",
       "  <tbody>\n",
       "    <tr>\n",
       "      <th>0</th>\n",
       "      <td>70.0</td>\n",
       "      <td>75.440678</td>\n",
       "      <td>82.0</td>\n",
       "    </tr>\n",
       "    <tr>\n",
       "      <th>1</th>\n",
       "      <td>68.0</td>\n",
       "      <td>73.964912</td>\n",
       "      <td>85.0</td>\n",
       "    </tr>\n",
       "    <tr>\n",
       "      <th>2</th>\n",
       "      <td>68.0</td>\n",
       "      <td>74.758621</td>\n",
       "      <td>82.0</td>\n",
       "    </tr>\n",
       "    <tr>\n",
       "      <th>3</th>\n",
       "      <td>69.0</td>\n",
       "      <td>75.157895</td>\n",
       "      <td>81.0</td>\n",
       "    </tr>\n",
       "    <tr>\n",
       "      <th>4</th>\n",
       "      <td>68.0</td>\n",
       "      <td>74.543860</td>\n",
       "      <td>80.0</td>\n",
       "    </tr>\n",
       "    <tr>\n",
       "      <th>5</th>\n",
       "      <td>68.0</td>\n",
       "      <td>74.964286</td>\n",
       "      <td>84.0</td>\n",
       "    </tr>\n",
       "    <tr>\n",
       "      <th>6</th>\n",
       "      <td>68.0</td>\n",
       "      <td>74.103448</td>\n",
       "      <td>80.0</td>\n",
       "    </tr>\n",
       "    <tr>\n",
       "      <th>7</th>\n",
       "      <td>67.0</td>\n",
       "      <td>74.214286</td>\n",
       "      <td>82.0</td>\n",
       "    </tr>\n",
       "    <tr>\n",
       "      <th>8</th>\n",
       "      <td>66.0</td>\n",
       "      <td>75.017857</td>\n",
       "      <td>81.0</td>\n",
       "    </tr>\n",
       "    <tr>\n",
       "      <th>9</th>\n",
       "      <td>69.0</td>\n",
       "      <td>74.886792</td>\n",
       "      <td>80.0</td>\n",
       "    </tr>\n",
       "    <tr>\n",
       "      <th>10</th>\n",
       "      <td>67.0</td>\n",
       "      <td>74.915254</td>\n",
       "      <td>80.0</td>\n",
       "    </tr>\n",
       "    <tr>\n",
       "      <th>11</th>\n",
       "      <td>67.0</td>\n",
       "      <td>75.596154</td>\n",
       "      <td>81.0</td>\n",
       "    </tr>\n",
       "    <tr>\n",
       "      <th>12</th>\n",
       "      <td>67.0</td>\n",
       "      <td>74.777778</td>\n",
       "      <td>81.0</td>\n",
       "    </tr>\n",
       "    <tr>\n",
       "      <th>13</th>\n",
       "      <td>68.0</td>\n",
       "      <td>75.403846</td>\n",
       "      <td>82.0</td>\n",
       "    </tr>\n",
       "    <tr>\n",
       "      <th>14</th>\n",
       "      <td>68.0</td>\n",
       "      <td>75.320755</td>\n",
       "      <td>87.0</td>\n",
       "    </tr>\n",
       "  </tbody>\n",
       "</table>\n",
       "</div>"
      ],
      "text/plain": [
       "    tmin       tavg  tmax\n",
       "0   70.0  75.440678  82.0\n",
       "1   68.0  73.964912  85.0\n",
       "2   68.0  74.758621  82.0\n",
       "3   69.0  75.157895  81.0\n",
       "4   68.0  74.543860  80.0\n",
       "5   68.0  74.964286  84.0\n",
       "6   68.0  74.103448  80.0\n",
       "7   67.0  74.214286  82.0\n",
       "8   66.0  75.017857  81.0\n",
       "9   69.0  74.886792  80.0\n",
       "10  67.0  74.915254  80.0\n",
       "11  67.0  75.596154  81.0\n",
       "12  67.0  74.777778  81.0\n",
       "13  68.0  75.403846  82.0\n",
       "14  68.0  75.320755  87.0"
      ]
     },
     "execution_count": 126,
     "metadata": {},
     "output_type": "execute_result"
    }
   ],
   "source": [
    "# Load previous query results into a Pandas DataFrame and add the `trip_dates` range as the `date` index\n",
    "\n",
    "normals_df = pd.DataFrame([t for lst in normals for t in lst], columns=['tmin', 'tavg', 'tmax'])\n",
    "normals_df"
   ]
  },
  {
   "cell_type": "code",
   "execution_count": 130,
   "metadata": {},
   "outputs": [
    {
     "data": {
      "text/html": [
       "<div>\n",
       "<style scoped>\n",
       "    .dataframe tbody tr th:only-of-type {\n",
       "        vertical-align: middle;\n",
       "    }\n",
       "\n",
       "    .dataframe tbody tr th {\n",
       "        vertical-align: top;\n",
       "    }\n",
       "\n",
       "    .dataframe thead th {\n",
       "        text-align: right;\n",
       "    }\n",
       "</style>\n",
       "<table border=\"1\" class=\"dataframe\">\n",
       "  <thead>\n",
       "    <tr style=\"text-align: right;\">\n",
       "      <th></th>\n",
       "      <th>tmin</th>\n",
       "      <th>tavg</th>\n",
       "      <th>tmax</th>\n",
       "    </tr>\n",
       "    <tr>\n",
       "      <th>trip_dates</th>\n",
       "      <th></th>\n",
       "      <th></th>\n",
       "      <th></th>\n",
       "    </tr>\n",
       "  </thead>\n",
       "  <tbody>\n",
       "    <tr>\n",
       "      <th>2015-06-19</th>\n",
       "      <td>70.0</td>\n",
       "      <td>75.440678</td>\n",
       "      <td>82.0</td>\n",
       "    </tr>\n",
       "    <tr>\n",
       "      <th>2015-06-20</th>\n",
       "      <td>68.0</td>\n",
       "      <td>73.964912</td>\n",
       "      <td>85.0</td>\n",
       "    </tr>\n",
       "    <tr>\n",
       "      <th>2015-06-21</th>\n",
       "      <td>68.0</td>\n",
       "      <td>74.758621</td>\n",
       "      <td>82.0</td>\n",
       "    </tr>\n",
       "    <tr>\n",
       "      <th>2015-06-22</th>\n",
       "      <td>69.0</td>\n",
       "      <td>75.157895</td>\n",
       "      <td>81.0</td>\n",
       "    </tr>\n",
       "    <tr>\n",
       "      <th>2015-06-23</th>\n",
       "      <td>68.0</td>\n",
       "      <td>74.543860</td>\n",
       "      <td>80.0</td>\n",
       "    </tr>\n",
       "    <tr>\n",
       "      <th>2015-06-24</th>\n",
       "      <td>68.0</td>\n",
       "      <td>74.964286</td>\n",
       "      <td>84.0</td>\n",
       "    </tr>\n",
       "    <tr>\n",
       "      <th>2015-06-25</th>\n",
       "      <td>68.0</td>\n",
       "      <td>74.103448</td>\n",
       "      <td>80.0</td>\n",
       "    </tr>\n",
       "    <tr>\n",
       "      <th>2015-06-26</th>\n",
       "      <td>67.0</td>\n",
       "      <td>74.214286</td>\n",
       "      <td>82.0</td>\n",
       "    </tr>\n",
       "    <tr>\n",
       "      <th>2015-06-27</th>\n",
       "      <td>66.0</td>\n",
       "      <td>75.017857</td>\n",
       "      <td>81.0</td>\n",
       "    </tr>\n",
       "    <tr>\n",
       "      <th>2015-06-28</th>\n",
       "      <td>69.0</td>\n",
       "      <td>74.886792</td>\n",
       "      <td>80.0</td>\n",
       "    </tr>\n",
       "    <tr>\n",
       "      <th>2015-06-29</th>\n",
       "      <td>67.0</td>\n",
       "      <td>74.915254</td>\n",
       "      <td>80.0</td>\n",
       "    </tr>\n",
       "    <tr>\n",
       "      <th>2015-06-30</th>\n",
       "      <td>67.0</td>\n",
       "      <td>75.596154</td>\n",
       "      <td>81.0</td>\n",
       "    </tr>\n",
       "    <tr>\n",
       "      <th>2015-07-01</th>\n",
       "      <td>67.0</td>\n",
       "      <td>74.777778</td>\n",
       "      <td>81.0</td>\n",
       "    </tr>\n",
       "    <tr>\n",
       "      <th>2015-07-02</th>\n",
       "      <td>68.0</td>\n",
       "      <td>75.403846</td>\n",
       "      <td>82.0</td>\n",
       "    </tr>\n",
       "    <tr>\n",
       "      <th>2015-07-03</th>\n",
       "      <td>68.0</td>\n",
       "      <td>75.320755</td>\n",
       "      <td>87.0</td>\n",
       "    </tr>\n",
       "  </tbody>\n",
       "</table>\n",
       "</div>"
      ],
      "text/plain": [
       "            tmin       tavg  tmax\n",
       "trip_dates                       \n",
       "2015-06-19  70.0  75.440678  82.0\n",
       "2015-06-20  68.0  73.964912  85.0\n",
       "2015-06-21  68.0  74.758621  82.0\n",
       "2015-06-22  69.0  75.157895  81.0\n",
       "2015-06-23  68.0  74.543860  80.0\n",
       "2015-06-24  68.0  74.964286  84.0\n",
       "2015-06-25  68.0  74.103448  80.0\n",
       "2015-06-26  67.0  74.214286  82.0\n",
       "2015-06-27  66.0  75.017857  81.0\n",
       "2015-06-28  69.0  74.886792  80.0\n",
       "2015-06-29  67.0  74.915254  80.0\n",
       "2015-06-30  67.0  75.596154  81.0\n",
       "2015-07-01  67.0  74.777778  81.0\n",
       "2015-07-02  68.0  75.403846  82.0\n",
       "2015-07-03  68.0  75.320755  87.0"
      ]
     },
     "execution_count": 130,
     "metadata": {},
     "output_type": "execute_result"
    }
   ],
   "source": [
    "normals_df['trip_dates'] = [x.strftime(\"%Y-%m-%d\") for x in date_generated]\n",
    "normals_df.set_index('trip_dates', inplace=True)\n",
    "normals_df"
   ]
  },
  {
   "cell_type": "code",
   "execution_count": 135,
   "metadata": {},
   "outputs": [
    {
     "data": {
      "image/png": "[encoded data removed]",
      "text/plain": [
       "<Figure size 432x288 with 1 Axes>"
      ]
     },
     "metadata": {},
     "output_type": "display_data"
    }
   ],
   "source": [
    "ax = normals_df.plot.area(stacked=False)\n",
    "plt.xticks(rotation=90)\n",
    "plt.xlabel('Dates')\n",
    "plt.ylabel('Temperature (F)')\n",
    "plt.title('Daily Average Temperature')\n",
    "plt.savefig('daily_rainfall.png')\n",
    "plt.show()"
   ]
  }
 ],
 "metadata": {
  "kernel_info": {
   "name": "python3"
  },
  "kernelspec": {
   "display_name": "Python 3",
   "language": "python",
   "name": "python3"
  },
  "language_info": {
   "codemirror_mode": {
    "name": "ipython",
    "version": 3
   },
   "file_extension": ".py",
   "mimetype": "text/x-python",
   "name": "python",
   "nbconvert_exporter": "python",
   "pygments_lexer": "ipython3",
   "version": "3.7.6"
  },
  "nteract": {
   "version": "0.12.3"
  },
  "varInspector": {
   "cols": {
    "lenName": 16,
    "lenType": 16,
    "lenVar": 40
   },
   "kernels_config": {
    "python": {
     "delete_cmd_postfix": "",
     "delete_cmd_prefix": "del ",
     "library": "var_list.py",
     "varRefreshCmd": "print(var_dic_list())"
    },
    "r": {
     "delete_cmd_postfix": ") ",
     "delete_cmd_prefix": "rm(",
     "library": "var_list.r",
     "varRefreshCmd": "cat(var_dic_list()) "
    }
   },
   "types_to_exclude": [
    "module",
    "function",
    "builtin_function_or_method",
    "instance",
    "_Feature"
   ],
   "window_display": false
  }
 },
 "nbformat": 4,
 "nbformat_minor": 2
}
